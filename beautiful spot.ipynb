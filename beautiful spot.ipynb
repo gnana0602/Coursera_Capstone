{
    "nbformat_minor": 1, 
    "cells": [
        {
            "source": "import requests\nfrom bs4 import BeautifulSoup\n\nr = requests.get(\"https://en.wikipedia.org/wiki/List_of_postal_codes_of_Canada:_M\")\n\nsoup = BeautifulSoup(r.text, \"lxml\")\n#soup.find_all(\"table\", attrs={\"class\": \"wikitable\"})\n\ntable = soup.find(\"table\", attrs={\"class\": \"wikitable\"})", 
            "cell_type": "code", 
            "metadata": {}, 
            "outputs": [], 
            "execution_count": 5
        }, 
        {
            "source": "import pandas as pd\nimport json", 
            "cell_type": "code", 
            "metadata": {}, 
            "outputs": [], 
            "execution_count": 6
        }, 
        {
            "source": "rows = soup.find(\"table\", attrs={\"class\": \"wikitable\"}).find(\"tbody\").find_all(\"tr\")\n\npostcodes = []\nboroughs = []\nneighbourhoods = []\n\n\nfor row in rows:\n    cells = row.find_all(\"td\")\n    if len(cells) > 0:\n        postcode = cells[0].get_text()\n        borough = cells[1].get_text()\n        neighbourhood = cells[2].get_text().strip(\"\\n\")\n        if borough != \"Not assigned\" and neighbourhood != \"Not assigned\":\n            \n            if postcode in postcodes:\n                index = postcodes.index(postcode)\n                #print(index)\n                #print( postcodes[index] )\n                neighbourhoods[index] += \", \"+neighbourhood\n            else:\n                neighbourhoods.append(neighbourhood)\n                postcodes.append(postcode)\n                boroughs.append(borough)\n#             if postcode != \"M7A\":\n#                 toronto.append(temp)\n\n\n\ndf1 = pd.DataFrame( { \n    \"PostalCode\": postcodes  , \n    \"Borough\" : boroughs,\n    \"Neighbourhood\":neighbourhoods\n} )\ndf1.head(11)", 
            "cell_type": "code", 
            "metadata": {}, 
            "outputs": [
                {
                    "output_type": "execute_result", 
                    "data": {
                        "text/html": "<div>\n<style scoped>\n    .dataframe tbody tr th:only-of-type {\n        vertical-align: middle;\n    }\n\n    .dataframe tbody tr th {\n        vertical-align: top;\n    }\n\n    .dataframe thead th {\n        text-align: right;\n    }\n</style>\n<table border=\"1\" class=\"dataframe\">\n  <thead>\n    <tr style=\"text-align: right;\">\n      <th></th>\n      <th>Borough</th>\n      <th>Neighbourhood</th>\n      <th>PostalCode</th>\n    </tr>\n  </thead>\n  <tbody>\n    <tr>\n      <th>0</th>\n      <td>North York</td>\n      <td>Parkwoods</td>\n      <td>M3A</td>\n    </tr>\n    <tr>\n      <th>1</th>\n      <td>North York</td>\n      <td>Victoria Village</td>\n      <td>M4A</td>\n    </tr>\n    <tr>\n      <th>2</th>\n      <td>Downtown Toronto</td>\n      <td>Harbourfront, Regent Park</td>\n      <td>M5A</td>\n    </tr>\n    <tr>\n      <th>3</th>\n      <td>North York</td>\n      <td>Lawrence Heights, Lawrence Manor</td>\n      <td>M6A</td>\n    </tr>\n    <tr>\n      <th>4</th>\n      <td>Etobicoke</td>\n      <td>Islington Avenue</td>\n      <td>M9A</td>\n    </tr>\n    <tr>\n      <th>5</th>\n      <td>Scarborough</td>\n      <td>Rouge, Malvern</td>\n      <td>M1B</td>\n    </tr>\n    <tr>\n      <th>6</th>\n      <td>North York</td>\n      <td>Don Mills North</td>\n      <td>M3B</td>\n    </tr>\n    <tr>\n      <th>7</th>\n      <td>East York</td>\n      <td>Woodbine Gardens, Parkview Hill</td>\n      <td>M4B</td>\n    </tr>\n    <tr>\n      <th>8</th>\n      <td>Downtown Toronto</td>\n      <td>Ryerson, Garden District</td>\n      <td>M5B</td>\n    </tr>\n    <tr>\n      <th>9</th>\n      <td>North York</td>\n      <td>Glencairn</td>\n      <td>M6B</td>\n    </tr>\n    <tr>\n      <th>10</th>\n      <td>Etobicoke</td>\n      <td>Cloverdale, Islington, Martin Grove, Princess ...</td>\n      <td>M9B</td>\n    </tr>\n  </tbody>\n</table>\n</div>", 
                        "text/plain": "             Borough                                      Neighbourhood  \\\n0         North York                                          Parkwoods   \n1         North York                                   Victoria Village   \n2   Downtown Toronto                          Harbourfront, Regent Park   \n3         North York                   Lawrence Heights, Lawrence Manor   \n4          Etobicoke                                   Islington Avenue   \n5        Scarborough                                     Rouge, Malvern   \n6         North York                                    Don Mills North   \n7          East York                    Woodbine Gardens, Parkview Hill   \n8   Downtown Toronto                           Ryerson, Garden District   \n9         North York                                          Glencairn   \n10         Etobicoke  Cloverdale, Islington, Martin Grove, Princess ...   \n\n   PostalCode  \n0         M3A  \n1         M4A  \n2         M5A  \n3         M6A  \n4         M9A  \n5         M1B  \n6         M3B  \n7         M4B  \n8         M5B  \n9         M6B  \n10        M9B  "
                    }, 
                    "execution_count": 7, 
                    "metadata": {}
                }
            ], 
            "execution_count": 7
        }, 
        {
            "source": "df1.shape", 
            "cell_type": "code", 
            "metadata": {}, 
            "outputs": [
                {
                    "output_type": "execute_result", 
                    "data": {
                        "text/plain": "(102, 3)"
                    }, 
                    "execution_count": 8, 
                    "metadata": {}
                }
            ], 
            "execution_count": 8
        }, 
        {
            "source": "import pandas as pd\nimport numpy as np\nimport requests\n\nfrom bs4 import BeautifulSoup\n\n\nsource = requests.get('https://en.wikipedia.org/wiki/List_of_postal_codes_of_Canada:_M').text\n\nsoup = BeautifulSoup(source, 'html5lib')\n\npostal_codes_dict = {} # initialize an empty dictionary to save the data in\nfor table_cell in soup.find_all('td'):\n    try:\n        postal_code = table_cell.p.b.text # get the postal code\n        postal_code_investigate = table_cell.span.text\n        neighborhoods_data = table_cell.span.text # get the rest of the data in the cell\n        borough = neighborhoods_data.split('(')[0] # get the borough in the cell\n        \n        # if the cell is not assigned then ignore it\n        if neighborhoods_data == 'Not assigned':\n            neighborhoods = []\n        # else process the data and add it to the dictionary\n        else:\n            postal_codes_dict[postal_code] = {}\n            \n            try:\n                neighborhoods = neighborhoods_data.split('(')[1]\n            \n                # remove parantheses from neighborhoods string\n                neighborhoods = neighborhoods.replace('(', ' ')\n                neighborhoods = neighborhoods.replace(')', ' ')\n\n                neighborhoods_names = neighborhoods.split('/')\n                neighborhoods_clean = ', '.join([name.strip() for name in neighborhoods_names])\n            except:\n                borough = borough.strip('\\n')\n                neighborhoods_clean = borough\n \n            # add borough and neighborhood to dictionary\n            postal_codes_dict[postal_code]['borough'] = borough\n            postal_codes_dict[postal_code]['neighborhoods'] = neighborhoods_clean\n    except:\n        pass\n    \n# create an empty dataframe\ncolumns = ['PostalCode', 'Borough', 'Neighborhood']\ntoronto_data = pd.DataFrame(columns=columns)\ntoronto_data\n\n# populate dataframe with data from dictionary\nfor ind, postal_code in enumerate(postal_codes_dict):\n    borough = postal_codes_dict[postal_code]['borough']\n    neighborhood = postal_codes_dict[postal_code]['neighborhoods']\n    toronto_data = toronto_data.append({\"PostalCode\": postal_code, \n                                        \"Borough\": borough, \n                                        \"Neighborhood\": neighborhood},\n                                        ignore_index=True)\n\n# print number of rows of dataframe\ntoronto_data.shape[0]", 
            "cell_type": "code", 
            "metadata": {}, 
            "outputs": [
                {
                    "output_type": "execute_result", 
                    "data": {
                        "text/plain": "0"
                    }, 
                    "execution_count": 4, 
                    "metadata": {}
                }
            ], 
            "execution_count": 4
        }, 
        {
            "source": "", 
            "cell_type": "code", 
            "metadata": {}, 
            "outputs": [], 
            "execution_count": null
        }, 
        {
            "source": "", 
            "cell_type": "code", 
            "metadata": {}, 
            "outputs": [], 
            "execution_count": null
        }, 
        {
            "source": "", 
            "cell_type": "code", 
            "metadata": {}, 
            "outputs": [], 
            "execution_count": null
        }
    ], 
    "metadata": {
        "kernelspec": {
            "display_name": "Python 3.5", 
            "name": "python3", 
            "language": "python"
        }, 
        "language_info": {
            "mimetype": "text/x-python", 
            "nbconvert_exporter": "python", 
            "version": "3.5.5", 
            "name": "python", 
            "pygments_lexer": "ipython3", 
            "file_extension": ".py", 
            "codemirror_mode": {
                "version": 3, 
                "name": "ipython"
            }
        }
    }, 
    "nbformat": 4
}