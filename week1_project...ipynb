{
    "nbformat_minor": 1, 
    "cells": [
        {
            "execution_count": 1, 
            "cell_type": "code", 
            "metadata": {}, 
            "outputs": [], 
            "source": "import requests\nfrom bs4 import BeautifulSoup\n\nr = requests.get(\"https://en.wikipedia.org/wiki/List_of_postal_codes_of_Canada:_M\")\n\nsoup = BeautifulSoup(r.text, \"lxml\")\n#soup.find_all(\"table\", attrs={\"class\": \"wikitable\"})\n\ntable = soup.find(\"table\", attrs={\"class\": \"wikitable\"})"
        }, 
        {
            "execution_count": 2, 
            "cell_type": "code", 
            "metadata": {}, 
            "outputs": [], 
            "source": "\n\nimport pandas as pd\nimport json\n\n"
        }, 
        {
            "execution_count": 3, 
            "cell_type": "code", 
            "metadata": {}, 
            "outputs": [
                {
                    "execution_count": 3, 
                    "metadata": {}, 
                    "data": {
                        "text/plain": "-79.3873826"
                    }, 
                    "output_type": "execute_result"
                }
            ], 
            "source": "url = \"https://cocl.us/Geospatial_data\"\n\ngeodf = pd.read_csv(url)\n\n\nposts  = geodf[\"Postal Code\"]\nlats  = geodf[\"Latitude\"]\nlongs  = geodf[\"Longitude\"]\n\n\nposts_list = []\nlastss_list = []\nlongss_list = []\nfor i in posts:\n    posts_list.append(i)\nfor i in lats:\n    lastss_list.append(i)    \nfor i in longs:\n    longss_list.append(i)\n\nindex = posts_list.index(\"M5G\")\nlongss_list[index]"
        }, 
        {
            "execution_count": 4, 
            "cell_type": "code", 
            "metadata": {}, 
            "outputs": [
                {
                    "execution_count": 4, 
                    "metadata": {}, 
                    "data": {
                        "text/html": "<div>\n<style scoped>\n    .dataframe tbody tr th:only-of-type {\n        vertical-align: middle;\n    }\n\n    .dataframe tbody tr th {\n        vertical-align: top;\n    }\n\n    .dataframe thead th {\n        text-align: right;\n    }\n</style>\n<table border=\"1\" class=\"dataframe\">\n  <thead>\n    <tr style=\"text-align: right;\">\n      <th></th>\n      <th>Borough</th>\n      <th>Latitide</th>\n      <th>Longitude</th>\n      <th>Neighbourhood</th>\n      <th>PostalCode</th>\n    </tr>\n  </thead>\n  <tbody>\n    <tr>\n      <th>0</th>\n      <td>North York</td>\n      <td>43.753259</td>\n      <td>-79.329656</td>\n      <td>Parkwoods</td>\n      <td>M3A</td>\n    </tr>\n    <tr>\n      <th>1</th>\n      <td>North York</td>\n      <td>43.725882</td>\n      <td>-79.315572</td>\n      <td>Victoria Village</td>\n      <td>M4A</td>\n    </tr>\n    <tr>\n      <th>2</th>\n      <td>Downtown Toronto</td>\n      <td>43.654260</td>\n      <td>-79.360636</td>\n      <td>Harbourfront, Regent Park</td>\n      <td>M5A</td>\n    </tr>\n    <tr>\n      <th>3</th>\n      <td>North York</td>\n      <td>43.718518</td>\n      <td>-79.464763</td>\n      <td>Lawrence Heights, Lawrence Manor</td>\n      <td>M6A</td>\n    </tr>\n    <tr>\n      <th>4</th>\n      <td>Etobicoke</td>\n      <td>43.667856</td>\n      <td>-79.532242</td>\n      <td>Islington Avenue</td>\n      <td>M9A</td>\n    </tr>\n    <tr>\n      <th>5</th>\n      <td>Scarborough</td>\n      <td>43.806686</td>\n      <td>-79.194353</td>\n      <td>Rouge, Malvern</td>\n      <td>M1B</td>\n    </tr>\n    <tr>\n      <th>6</th>\n      <td>North York</td>\n      <td>43.745906</td>\n      <td>-79.352188</td>\n      <td>Don Mills North</td>\n      <td>M3B</td>\n    </tr>\n    <tr>\n      <th>7</th>\n      <td>East York</td>\n      <td>43.706397</td>\n      <td>-79.309937</td>\n      <td>Woodbine Gardens, Parkview Hill</td>\n      <td>M4B</td>\n    </tr>\n    <tr>\n      <th>8</th>\n      <td>Downtown Toronto</td>\n      <td>43.657162</td>\n      <td>-79.378937</td>\n      <td>Ryerson, Garden District</td>\n      <td>M5B</td>\n    </tr>\n    <tr>\n      <th>9</th>\n      <td>North York</td>\n      <td>43.709577</td>\n      <td>-79.445073</td>\n      <td>Glencairn</td>\n      <td>M6B</td>\n    </tr>\n    <tr>\n      <th>10</th>\n      <td>Etobicoke</td>\n      <td>43.650943</td>\n      <td>-79.554724</td>\n      <td>Cloverdale, Islington, Martin Grove, Princess ...</td>\n      <td>M9B</td>\n    </tr>\n  </tbody>\n</table>\n</div>", 
                        "text/plain": "             Borough   Latitide  Longitude  \\\n0         North York  43.753259 -79.329656   \n1         North York  43.725882 -79.315572   \n2   Downtown Toronto  43.654260 -79.360636   \n3         North York  43.718518 -79.464763   \n4          Etobicoke  43.667856 -79.532242   \n5        Scarborough  43.806686 -79.194353   \n6         North York  43.745906 -79.352188   \n7          East York  43.706397 -79.309937   \n8   Downtown Toronto  43.657162 -79.378937   \n9         North York  43.709577 -79.445073   \n10         Etobicoke  43.650943 -79.554724   \n\n                                        Neighbourhood PostalCode  \n0                                           Parkwoods        M3A  \n1                                    Victoria Village        M4A  \n2                           Harbourfront, Regent Park        M5A  \n3                    Lawrence Heights, Lawrence Manor        M6A  \n4                                    Islington Avenue        M9A  \n5                                      Rouge, Malvern        M1B  \n6                                     Don Mills North        M3B  \n7                     Woodbine Gardens, Parkview Hill        M4B  \n8                            Ryerson, Garden District        M5B  \n9                                           Glencairn        M6B  \n10  Cloverdale, Islington, Martin Grove, Princess ...        M9B  "
                    }, 
                    "output_type": "execute_result"
                }
            ], 
            "source": "rows = soup.find(\"table\", attrs={\"class\": \"wikitable\"}).find(\"tbody\").find_all(\"tr\")\n\npostcodes = []\nboroughs = []\nneighbourhoods = []\nlatitudes = []\nlongitudes = []\n\n\n\n\n\nfor row in rows:\n    cells = row.find_all(\"td\")\n    if len(cells) > 0:\n        postcode = cells[0].get_text()\n        borough = cells[1].get_text()\n        neighbourhood = cells[2].get_text().strip(\"\\n\")\n        if borough != \"Not assigned\" and neighbourhood != \"Not assigned\":\n            \n            if postcode in postcodes:\n                index = postcodes.index(postcode)\n                #print(index)\n                #print( postcodes[index] )\n                neighbourhoods[index] += \", \"+neighbourhood\n            else:\n                neighbourhoods.append(neighbourhood)\n                postcodes.append(postcode)\n                \n                boroughs.append(borough)\n                \n                index = posts_list.index(postcode)\n                latitudes.append(lastss_list[index])\n                longitudes.append(longss_list[index])\n    \n\n\ndf1 = pd.DataFrame( { \n    \"PostalCode\": postcodes  , \n    \"Borough\" : boroughs,\n    \"Neighbourhood\":neighbourhoods,\n    \"Latitide\": latitudes,\n    \"Longitude\": longitudes\n} )\ndf1.head(11)"
        }, 
        {
            "execution_count": 5, 
            "cell_type": "code", 
            "metadata": {}, 
            "outputs": [
                {
                    "execution_count": 5, 
                    "metadata": {}, 
                    "data": {
                        "text/plain": "(102, 5)"
                    }, 
                    "output_type": "execute_result"
                }
            ], 
            "source": "df1.shape"
        }, 
        {
            "execution_count": null, 
            "cell_type": "code", 
            "metadata": {}, 
            "outputs": [], 
            "source": ""
        }
    ], 
    "metadata": {
        "kernelspec": {
            "display_name": "Python 3.5", 
            "name": "python3", 
            "language": "python"
        }, 
        "language_info": {
            "mimetype": "text/x-python", 
            "nbconvert_exporter": "python", 
            "version": "3.5.5", 
            "name": "python", 
            "file_extension": ".py", 
            "pygments_lexer": "ipython3", 
            "codemirror_mode": {
                "version": 3, 
                "name": "ipython"
            }
        }
    }, 
    "nbformat": 4
}